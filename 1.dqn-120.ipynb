{
 "cells": [
  {
   "cell_type": "code",
   "execution_count": 1,
   "metadata": {},
   "outputs": [],
   "source": [
    "import math, random\n",
    "import os\n",
    "import gym\n",
    "import numpy as np\n",
    "\n",
    "import torch\n",
    "import torch.nn as nn\n",
    "import torch.optim as optim\n",
    "import torch.autograd as autograd \n",
    "import torch.nn.functional as F"
   ]
  },
  {
   "cell_type": "code",
   "execution_count": 2,
   "metadata": {},
   "outputs": [],
   "source": [
    "seed_value = 324267"
   ]
  },
  {
   "cell_type": "code",
   "execution_count": 3,
   "metadata": {},
   "outputs": [],
   "source": [
    "os.environ['PYTHONHASHSEED']=str(seed_value) \n",
    "random.seed(seed_value) \n",
    "np.random.seed(seed_value) \n",
    "torch.manual_seed(seed_value)\n",
    "torch.backends.cudnn.deterministic = True\n",
    "torch.backends.cudnn.benchmark = False"
   ]
  },
  {
   "cell_type": "code",
   "execution_count": 4,
   "metadata": {},
   "outputs": [],
   "source": [
    "from IPython.display import clear_output\n",
    "import matplotlib.pyplot as plt\n",
    "%matplotlib inline"
   ]
  },
  {
   "cell_type": "markdown",
   "metadata": {},
   "source": [
    "<h3>Use Cuda</h3>"
   ]
  },
  {
   "cell_type": "code",
   "execution_count": 5,
   "metadata": {},
   "outputs": [],
   "source": [
    "USE_CUDA = torch.cuda.is_available()\n",
    "if USE_CUDA:\n",
    "    torch.cuda.manual_seed(seed_value)\n",
    "    device = torch.device('cuda')\n",
    "else:\n",
    "    device = torch.device('cpu')\n",
    "    \n",
    "# Variable = lambda *args, **kwargs: autograd.Variable(*args, **kwargs).to(device) if USE_CUDA else autograd.Variable(*args, **kwargs)"
   ]
  },
  {
   "cell_type": "markdown",
   "metadata": {},
   "source": [
    "<h2>Replay Buffer</h2>"
   ]
  },
  {
   "cell_type": "code",
   "execution_count": 6,
   "metadata": {},
   "outputs": [],
   "source": [
    "from collections import deque\n",
    "\n",
    "class ReplayBuffer(object):\n",
    "    def __init__(self, capacity):\n",
    "        self.buffer = deque(maxlen=capacity)\n",
    "    \n",
    "    def push(self, state, action, reward, next_state, done):\n",
    "        state      = np.expand_dims(state, 0)\n",
    "        next_state = np.expand_dims(next_state, 0)\n",
    "            \n",
    "        self.buffer.append((state, action, reward, next_state, done))\n",
    "    \n",
    "    def sample(self, batch_size):\n",
    "        state, action, reward, next_state, done = zip(*random.sample(self.buffer, batch_size))\n",
    "        return np.concatenate(state), action, reward, np.concatenate(next_state), done\n",
    "    \n",
    "    def __len__(self):\n",
    "        return len(self.buffer)"
   ]
  },
  {
   "cell_type": "markdown",
   "metadata": {},
   "source": [
    "<h2>Cart Pole Environment</h2>"
   ]
  },
  {
   "cell_type": "code",
   "execution_count": 7,
   "metadata": {},
   "outputs": [],
   "source": [
    "env_id = \"CartPole-v0\"\n",
    "env = gym.make(env_id)\n",
    "env.seed(seed_value);"
   ]
  },
  {
   "cell_type": "markdown",
   "metadata": {},
   "source": [
    "<h2>Epsilon greedy exploration</h2>"
   ]
  },
  {
   "cell_type": "code",
   "execution_count": 8,
   "metadata": {},
   "outputs": [],
   "source": [
    "epsilon_start = 1.0\n",
    "epsilon_final = 0.01\n",
    "epsilon_decay = 500\n",
    "\n",
    "epsilon_by_frame = lambda frame_idx: epsilon_final + (epsilon_start - epsilon_final) * math.exp(-1. * frame_idx / epsilon_decay)"
   ]
  },
  {
   "cell_type": "code",
   "execution_count": 9,
   "metadata": {},
   "outputs": [
    {
     "data": {
      "text/plain": [
       "[<matplotlib.lines.Line2D at 0x7f5135ba5cc0>]"
      ]
     },
     "execution_count": 9,
     "metadata": {},
     "output_type": "execute_result"
    },
    {
     "data": {
      "image/png": "[encoded data removed]",
      "text/plain": [
       "<Figure size 432x288 with 1 Axes>"
      ]
     },
     "metadata": {
      "needs_background": "light"
     },
     "output_type": "display_data"
    }
   ],
   "source": [
    "plt.plot([epsilon_by_frame(i) for i in range(10000)])"
   ]
  },
  {
   "cell_type": "markdown",
   "metadata": {},
   "source": [
    "<h2>Deep Q Network</h2>"
   ]
  },
  {
   "cell_type": "code",
   "execution_count": 10,
   "metadata": {},
   "outputs": [],
   "source": [
    "class DQN(nn.Module):\n",
    "    def __init__(self, num_inputs, num_actions):\n",
    "        super(DQN, self).__init__()\n",
    "        \n",
    "        self.layers = nn.Sequential(\n",
    "            nn.Linear(env.observation_space.shape[0], 128),\n",
    "            nn.ReLU(),\n",
    "            nn.Linear(128, 128),\n",
    "            nn.ReLU(),\n",
    "            nn.Linear(128, env.action_space.n)\n",
    "        )\n",
    "        \n",
    "    def forward(self, x):\n",
    "        return self.layers(x)\n",
    "    \n",
    "    def act(self, state, epsilon):\n",
    "        with torch.no_grad():\n",
    "            if random.random() > epsilon:\n",
    "                state   = torch.FloatTensor(state).unsqueeze(0).to(device)\n",
    "                q_value = self.forward(state)\n",
    "                action  = q_value.max(1)[1].item()\n",
    "            else:\n",
    "                action = random.randrange(env.action_space.n)\n",
    "        return action"
   ]
  },
  {
   "cell_type": "code",
   "execution_count": 11,
   "metadata": {},
   "outputs": [],
   "source": [
    "model = DQN(env.observation_space.shape[0], env.action_space.n)\n",
    "\n",
    "model = model.to(device)\n",
    "    \n",
    "optimizer = optim.Adam(model.parameters())\n",
    "\n",
    "replay_buffer = ReplayBuffer(1000)"
   ]
  },
  {
   "cell_type": "markdown",
   "metadata": {},
   "source": [
    "<h2>Computing Temporal Difference Loss</h2>"
   ]
  },
  {
   "cell_type": "code",
   "execution_count": 12,
   "metadata": {},
   "outputs": [],
   "source": [
    "def compute_td_loss(batch_size):\n",
    "    state, action, reward, next_state, done = replay_buffer.sample(batch_size)\n",
    "\n",
    "    state      = torch.FloatTensor(np.float32(state)).to(device)\n",
    "    next_state = torch.FloatTensor(np.float32(next_state)).to(device)\n",
    "    action     = torch.LongTensor(action).to(device)\n",
    "    reward     = torch.FloatTensor(reward).to(device)\n",
    "    done       = torch.FloatTensor(done).to(device)\n",
    "\n",
    "    q_values      = model(state)\n",
    "    with torch.no_grad():\n",
    "        next_q_values = model(next_state)\n",
    "\n",
    "    q_value          = q_values.gather(1, action.unsqueeze(1)).squeeze(1)\n",
    "    next_q_value     = next_q_values.max(1)[0]\n",
    "    expected_q_value = reward + gamma * next_q_value * (1 - done)\n",
    "    \n",
    "    loss = (q_value - expected_q_value.detach()).pow(2).mean()\n",
    "        \n",
    "    optimizer.zero_grad()\n",
    "    loss.backward()\n",
    "    optimizer.step()\n",
    "    \n",
    "    return loss"
   ]
  },
  {
   "cell_type": "markdown",
   "metadata": {},
   "source": [
    "<h2>Training</h2>"
   ]
  },
  {
   "cell_type": "code",
   "execution_count": 13,
   "metadata": {},
   "outputs": [],
   "source": [
    "def train():\n",
    "    losses = []\n",
    "    all_rewards = []\n",
    "    episode_reward = 0\n",
    "\n",
    "    state = env.reset()\n",
    "    for frame_idx in range(1, num_frames + 1):\n",
    "        epsilon = epsilon_by_frame(frame_idx)\n",
    "        action = model.act(state, epsilon)\n",
    "\n",
    "        next_state, reward, done, _ = env.step(action)\n",
    "        replay_buffer.push(state, action, reward, next_state, done)\n",
    "\n",
    "        state = next_state\n",
    "        episode_reward += reward\n",
    "\n",
    "        if done:\n",
    "            state = env.reset()\n",
    "            all_rewards.append(episode_reward)\n",
    "            episode_reward = 0\n",
    "\n",
    "        if len(replay_buffer) > batch_size:\n",
    "            loss = compute_td_loss(batch_size)"
   ]
  },
  {
   "cell_type": "code",
   "execution_count": 14,
   "metadata": {},
   "outputs": [
    {
     "name": "stdout",
     "output_type": "stream",
     "text": [
      " CPU times: user 15.6 s, sys: 543 ms, total: 16.2 s\n",
      "Wall time: 16.3 s\n"
     ]
    },
    {
     "data": {
      "text/plain": [
       "         4819696 function calls (4642979 primitive calls) in 16.312 seconds\n",
       "\n",
       "   Ordered by: function name\n",
       "\n",
       "   ncalls  tottime  percall  cumtime  percall filename:lineno(function)\n",
       "    87990    1.792    0.000    1.792    0.000 {built-in method addmm}\n",
       "        1    0.000    0.000   16.312   16.312 {built-in method builtins.exec}\n",
       "       17    0.000    0.000    0.000    0.000 {built-in method builtins.getattr}\n",
       "    59814    0.009    0.000    0.009    0.000 {built-in method builtins.id}\n",
       "69929/69872    0.024    0.000    0.056    0.000 {built-in method builtins.isinstance}\n",
       "    55/16    0.000    0.000    0.000    0.000 {built-in method builtins.issubclass}\n",
       "295660/285660    0.037    0.000    0.039    0.000 {built-in method builtins.len}\n",
       "     9968    0.003    0.000    0.003    0.000 {built-in method math.ceil}\n",
       "    10000    0.005    0.000    0.005    0.000 {built-in method math.cos}\n",
       "    10000    0.003    0.000    0.003    0.000 {built-in method math.exp}\n",
       "     9968    0.006    0.000    0.006    0.000 {built-in method math.log}\n",
       "    10000    0.002    0.000    0.002    0.000 {built-in method math.sin}\n",
       "    59808    0.012    0.000    0.012    0.000 {built-in method math.sqrt}\n",
       "    30145    0.037    0.000    0.037    0.000 {built-in method numpy.array}\n",
       "    19936    0.148    0.000    0.148    0.000 {built-in method numpy.concatenate}\n",
       "     9968    0.093    0.000    0.093    0.000 {built-in method ones_like}\n",
       "    58660    0.635    0.000    0.635    0.000 {built-in method relu}\n",
       "     9968    0.124    0.000    0.124    0.000 {built-in method rsub}\n",
       "       11    0.000    0.000    0.000    0.000 {built-in method sys._getframe}\n",
       "   195916    0.089    0.000    0.089    0.000 {built-in method torch._C._get_tracing_state}\n",
       "    39936    0.008    0.000    0.008    0.000 {built-in method torch._C.is_grad_enabled}\n",
       "    39936    0.005    0.000    0.005    0.000 {built-in method torch._C.set_grad_enabled}\n",
       "       12    0.000    0.000    0.000    0.000 {built-in method zeros_like}\n",
       "    10000    0.011    0.000    0.015    0.000 <ipython-input-8-30df6e94997a>:5(<lambda>)\n",
       "       21    0.000    0.000    0.000    0.000 {method '__subclasses__' of 'type' objects}\n",
       "   311170    0.057    0.000    0.057    0.000 {method 'add' of 'set' objects}\n",
       "   119616    0.897    0.000    0.897    0.000 {method 'add_' of 'torch._C._TensorBase' objects}\n",
       "    59808    0.401    0.000    0.401    0.000 {method 'addcdiv_' of 'torch._C._TensorBase' objects}\n",
       "    59808    0.387    0.000    0.387    0.000 {method 'addcmul_' of 'torch._C._TensorBase' objects}\n",
       "    10000    0.005    0.000    0.005    0.000 {method 'append' of 'collections.deque' objects}\n",
       "    10112    0.002    0.000    0.002    0.000 {method 'append' of 'list' objects}\n",
       "   324848    0.017    0.000    0.017    0.000 {method 'bit_length' of 'int' objects}\n",
       "     9968    0.011    0.000    0.011    0.000 {method 'detach' of 'torch._C._TensorBase' objects}\n",
       "    59802    0.017    0.000    0.017    0.000 {method 'detach_' of 'torch._C._TensorBase' objects}\n",
       "    87990    0.015    0.000    0.015    0.000 {method 'dim' of 'torch._C._TensorBase' objects}\n",
       "        1    0.000    0.000    0.000    0.000 {method 'disable' of '_lsprof.Profiler' objects}\n",
       "     9968    0.133    0.000    0.133    0.000 {method 'gather' of 'torch._C._TensorBase' objects}\n",
       "   344669    0.032    0.000    0.032    0.000 {method 'getrandbits' of '_random.Random' objects}\n",
       "     9394    0.242    0.000    0.242    0.000 {method 'item' of 'torch._C._TensorBase' objects}\n",
       "    19362    0.240    0.000    0.240    0.000 {method 'max' of 'torch._C._TensorBase' objects}\n",
       "     9968    0.106    0.000    0.106    0.000 {method 'mean' of 'torch._C._TensorBase' objects}\n",
       "   119616    1.079    0.000    1.079    0.000 {method 'mul_' of 'torch._C._TensorBase' objects}\n",
       "     9968    0.004    0.000    0.004    0.000 {method 'numel' of 'torch._C._TensorBase' objects}\n",
       "     9968    0.098    0.000    0.098    0.000 {method 'pow' of 'torch._C._TensorBase' objects}\n",
       "    10000    0.002    0.000    0.002    0.000 {method 'random' of '_random.Random' objects}\n",
       "       17    0.000    0.000    0.000    0.000 {method 'remove' of 'set' objects}\n",
       "    20000    0.015    0.000    0.015    0.000 {method 'reshape' of 'numpy.ndarray' objects}\n",
       "     9968    3.361    0.000    3.361    0.000 {method 'run_backward' of 'torch._C._EngineBase' objects}\n",
       "    59808    0.452    0.000    0.452    0.000 {method 'sqrt' of 'torch._C._TensorBase' objects}\n",
       "     9968    0.032    0.000    0.032    0.000 {method 'squeeze' of 'torch._C._TensorBase' objects}\n",
       "    87990    0.250    0.000    0.250    0.000 {method 't' of 'torch._C._TensorBase' objects}\n",
       "    59234    1.737    0.000    1.737    0.000 {method 'to' of 'torch._C._TensorBase' objects}\n",
       "      145    0.001    0.000    0.001    0.000 {method 'uniform' of 'mtrand.RandomState' objects}\n",
       "    19362    0.066    0.000    0.066    0.000 {method 'unsqueeze' of 'torch._C._TensorBase' objects}\n",
       "   421162    0.036    0.000    0.036    0.000 {method 'values' of 'collections.OrderedDict' objects}\n",
       "    59802    0.161    0.000    0.161    0.000 {method 'zero_' of 'torch._C._TensorBase' objects}\n",
       "        1    0.000    0.000   16.312   16.312 <string>:1(<module>)\n",
       "195916/29330    0.378    0.000    3.821    0.000 module.py:537(__call__)\n",
       "    29957    0.012    0.000    0.012    0.000 _weakrefset.py:70(__contains__)\n",
       "    19968    0.019    0.000    0.026    0.000 grad_mode.py:37(__enter__)\n",
       "       17    0.000    0.000    0.000    0.000 _weakrefset.py:20(__enter__)\n",
       "       14    0.000    0.000    0.000    0.000 typing.py:1089(__eq__)\n",
       "    19968    0.022    0.000    0.044    0.000 grad_mode.py:41(__exit__)\n",
       "       17    0.000    0.000    0.000    0.000 _weakrefset.py:26(__exit__)\n",
       "        5    0.000    0.000    0.000    0.000 typing.py:875(__extrahook__)\n",
       "        2    0.000    0.000    0.000    0.000 typing.py:889(__extrahook__)\n",
       "   205310    0.077    0.000    0.077    0.000 module.py:577(__getattr__)\n",
       "    59814    0.020    0.000    0.029    0.000 tensor.py:392(__hash__)\n",
       "    19968    0.016    0.000    0.022    0.000 grad_mode.py:137(__init__)\n",
       "       17    0.000    0.000    0.000    0.000 _weakrefset.py:16(__init__)\n",
       "    19936    0.020    0.000    0.032    0.000 abc.py:180(__instancecheck__)\n",
       "       35    0.000    0.000    0.000    0.000 _weakrefset.py:58(__iter__)\n",
       "    10000    0.003    0.000    0.004    0.000 <ipython-input-6-528f8b89ecfb>:17(__len__)\n",
       "     9968    0.008    0.000    0.132    0.000 tensor.py:324(__rsub__)\n",
       "    21/10    0.000    0.000    0.000    0.000 typing.py:1145(__subclasscheck__)\n",
       "     26/2    0.000    0.000    0.000    0.000 abc.py:196(__subclasscheck__)\n",
       "        4    0.000    0.000    0.000    0.000 _collections_abc.py:302(__subclasshook__)\n",
       "       11    0.000    0.000    0.000    0.000 _collections_abc.py:392(__subclasshook__)\n",
       "       17    0.000    0.000    0.000    0.000 typing.py:1019(_abc_negative_cache)\n",
       "       10    0.000    0.000    0.000    0.000 typing.py:1033(_abc_negative_cache_version)\n",
       "       17    0.000    0.000    0.000    0.000 _weakrefset.py:52(_commit_removals)\n",
       "     9968    0.029    0.000    0.131    0.000 __init__.py:20(_make_grads)\n",
       "   324848    0.113    0.000    0.162    0.000 random.py:223(_randbelow)\n",
       "    10000    0.182    0.000    2.182    0.000 <ipython-input-10-155b3485bb4b>:16(act)\n",
       "       17    0.000    0.000    0.000    0.000 _weakrefset.py:81(add)\n",
       "    20000    0.005    0.000    0.011    0.000 numeric.py:541(asanyarray)\n",
       "     9968    0.025    0.000    3.521    0.000 __init__.py:38(backward)\n",
       "     9968    0.028    0.000    3.550    0.000 tensor.py:90(backward)\n",
       "     9968    0.872    0.000   13.774    0.001 <ipython-input-12-c93266c55ad9>:1(compute_td_loss)\n",
       "    10000    0.006    0.000    0.009    0.000 discrete.py:21(contains)\n",
       "    20000    0.030    0.000    0.060    0.000 shape_base.py:513(expand_dims)\n",
       "    29330    0.051    0.000    3.798    0.000 <ipython-input-10-155b3485bb4b>:13(forward)\n",
       "    58660    0.040    0.000    0.699    0.000 activation.py:93(forward)\n",
       "    29330    0.182    0.000    3.652    0.000 container.py:90(forward)\n",
       "    87990    0.147    0.000    2.369    0.000 linear.py:86(forward)\n",
       "    87990    0.117    0.000    2.174    0.000 functional.py:1354(linear)\n",
       "    10000    0.012    0.000    0.077    0.000 <ipython-input-6-528f8b89ecfb>:7(push)\n",
       "      606    0.001    0.000    0.002    0.000 random.py:173(randrange)\n",
       "    58660    0.024    0.000    0.659    0.000 functional.py:903(relu)\n",
       "      145    0.000    0.000    0.001    0.000 cartpole.py:132(reset)\n",
       "      145    0.000    0.000    0.001    0.000 time_limit.py:23(reset)\n",
       "     9968    0.048    0.000    0.609    0.000 <ipython-input-6-528f8b89ecfb>:13(sample)\n",
       "     9968    0.141    0.000    0.413    0.000 random.py:285(sample)\n",
       "    10000    0.068    0.000    0.114    0.000 cartpole.py:91(step)\n",
       "    10000    0.016    0.000    0.130    0.000 time_limit.py:14(step)\n",
       "     9968    0.528    0.000    3.790    0.000 adam.py:49(step)\n",
       "        1    0.123    0.123   16.312   16.312 <ipython-input-13-f7c8e35c608f>:1(train)\n",
       "     9968    0.053    0.000    0.231    0.000 optimizer.py:159(zero_grad)"
      ]
     },
     "metadata": {},
     "output_type": "display_data"
    }
   ],
   "source": [
    "%%time\n",
    "\n",
    "num_frames = 10000\n",
    "batch_size = 32\n",
    "gamma      = 0.99\n",
    "%prun -s name train()"
   ]
  }
 ],
 "metadata": {
  "kernelspec": {
   "display_name": "Python 3",
   "language": "python",
   "name": "python3"
  },
  "language_info": {
   "codemirror_mode": {
    "name": "ipython",
    "version": 3
   },
   "file_extension": ".py",
   "mimetype": "text/x-python",
   "name": "python",
   "nbconvert_exporter": "python",
   "pygments_lexer": "ipython3",
   "version": "3.6.9"
  }
 },
 "nbformat": 4,
 "nbformat_minor": 4
}
